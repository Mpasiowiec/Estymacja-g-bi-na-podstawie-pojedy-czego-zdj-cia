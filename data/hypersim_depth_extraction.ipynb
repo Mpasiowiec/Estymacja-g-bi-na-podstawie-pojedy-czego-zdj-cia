{
 "cells": [
  {
   "cell_type": "code",
   "execution_count": 1,
   "metadata": {},
   "outputs": [],
   "source": [
    "import numpy as np\n",
    "import h5py\n",
    "import os\n",
    "import glob\n",
    "from PIL import Image\n",
    "from tqdm import tqdm\n"
   ]
  },
  {
   "cell_type": "code",
   "execution_count": null,
   "metadata": {},
   "outputs": [],
   "source": [
    "\n",
    "# paths to depth files (C:\\Users\\micha\\OneDrive - SGH\\Estymacja-glebi-na-podstawie-pojedynczego-zdejcia\\data\\hypersim\\ai_001_001\\images\\scene_cam_00_geometry_hdf5\\frame.0000.depth_meters.hdf5)\n",
    "path_to_depth = glob.glob('./hypersim/data/ai_*/images/scene_cam_00_geometry_hdf5/frame.*.depth_meters.hdf5')\n",
    "\n",
    "for path in tqdm(path_to_depth):\n",
    "    depth = np.asarray(h5py.File(path)['dataset'])*1000\n",
    "    gt_dir = os.path.dirname(path)\n",
    "    depth = Image.fromarray((depth).astype(\"int\"))\n",
    "    depth.save(os.path.join(gt_dir, os.path.basename(path).replace('hdf5', 'png')))\n",
    "    pass"
   ]
  },
  {
   "cell_type": "code",
   "execution_count": 2,
   "metadata": {},
   "outputs": [
    {
     "name": "stderr",
     "output_type": "stream",
     "text": [
      "100%|██████████| 43619/43619 [01:36<00:00, 453.61it/s] \n"
     ]
    }
   ],
   "source": [
    "path_to_depth = glob.glob('./hypersim/data/ai_*/images/scene_cam_00_geometry_hdf5/frame.*.depth_meters.hdf5')\n",
    "\n",
    "for path in tqdm(path_to_depth):\n",
    "    os.remove(path)\n",
    "    pass"
   ]
  }
 ],
 "metadata": {
  "kernelspec": {
   "display_name": "pytorch-env",
   "language": "python",
   "name": "python3"
  },
  "language_info": {
   "codemirror_mode": {
    "name": "ipython",
    "version": 3
   },
   "file_extension": ".py",
   "mimetype": "text/x-python",
   "name": "python",
   "nbconvert_exporter": "python",
   "pygments_lexer": "ipython3",
   "version": "3.12.3"
  }
 },
 "nbformat": 4,
 "nbformat_minor": 2
}
