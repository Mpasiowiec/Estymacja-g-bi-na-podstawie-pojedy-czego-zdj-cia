{
 "cells": [
  {
   "cell_type": "code",
   "execution_count": 1,
   "metadata": {},
   "outputs": [
    {
     "name": "stderr",
     "output_type": "stream",
     "text": [
      "c:\\Users\\micha\\anaconda3\\envs\\pytorch-env\\Lib\\site-packages\\tqdm\\auto.py:21: TqdmWarning: IProgress not found. Please update jupyter and ipywidgets. See https://ipywidgets.readthedocs.io/en/stable/user_install.html\n",
      "  from .autonotebook import tqdm as notebook_tqdm\n",
      "c:\\Users\\micha\\anaconda3\\envs\\pytorch-env\\Lib\\site-packages\\huggingface_hub\\file_download.py:1132: FutureWarning: `resume_download` is deprecated and will be removed in version 1.0.0. Downloads always resume when possible. If you want to force a new download, use `force_download=True`.\n",
      "  warnings.warn(\n",
      "Loading pipeline components...: 100%|██████████| 5/5 [00:02<00:00,  2.15it/s]\n"
     ]
    },
    {
     "data": {
      "text/plain": [
       "MarigoldPipeline {\n",
       "  \"_class_name\": \"MarigoldPipeline\",\n",
       "  \"_diffusers_version\": \"0.27.2\",\n",
       "  \"default_denoising_steps\": 1,\n",
       "  \"default_processing_resolution\": 768,\n",
       "  \"scale_invariant\": true,\n",
       "  \"scheduler\": [\n",
       "    \"diffusers\",\n",
       "    \"LCMScheduler\"\n",
       "  ],\n",
       "  \"shift_invariant\": true,\n",
       "  \"text_encoder\": [\n",
       "    \"transformers\",\n",
       "    \"CLIPTextModel\"\n",
       "  ],\n",
       "  \"tokenizer\": [\n",
       "    \"transformers\",\n",
       "    \"CLIPTokenizer\"\n",
       "  ],\n",
       "  \"unet\": [\n",
       "    \"diffusers\",\n",
       "    \"UNet2DConditionModel\"\n",
       "  ],\n",
       "  \"vae\": [\n",
       "    \"diffusers\",\n",
       "    \"AutoencoderKL\"\n",
       "  ]\n",
       "}"
      ]
     },
     "execution_count": 1,
     "metadata": {},
     "output_type": "execute_result"
    }
   ],
   "source": [
    "from models.Marigold import MarigoldPipeline\n",
    "import torch\n",
    "\n",
    "pipe = MarigoldPipeline.from_pretrained(\"prs-eth/marigold-depth-lcm-v1-0\", variant=\"fp16\", torch_dtype=torch.float16)\n",
    "\n",
    "ag = vars(pipe)\n",
    "ag.pop('_internal_dict')\n",
    "\n",
    "model = MarigoldPipeline(ag['unet'], ag['vae'], ag['scheduler'], ag['text_encoder'], ag['tokenizer'], ag['scale_invariant'], ag['shift_invariant'], ag['default_denoising_steps'], ag['default_processing_resolution'], ag['empty_text_embed'])\n",
    "model"
   ]
  }
 ],
 "metadata": {
  "kernelspec": {
   "display_name": "pytorch-env",
   "language": "python",
   "name": "python3"
  },
  "language_info": {
   "codemirror_mode": {
    "name": "ipython",
    "version": 3
   },
   "file_extension": ".py",
   "mimetype": "text/x-python",
   "name": "python",
   "nbconvert_exporter": "python",
   "pygments_lexer": "ipython3",
   "version": "3.12.3"
  }
 },
 "nbformat": 4,
 "nbformat_minor": 2
}
